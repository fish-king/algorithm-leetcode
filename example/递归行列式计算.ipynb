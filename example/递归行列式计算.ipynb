{
 "cells": [
  {
   "cell_type": "code",
   "execution_count": 1,
   "metadata": {},
   "outputs": [
    {
     "data": {
      "text/plain": [
       "-110"
      ]
     },
     "execution_count": 1,
     "metadata": {},
     "output_type": "execute_result"
    }
   ],
   "source": [
    "import copy\n",
    "def hls(a):\n",
    "    if(len(a) == 1):\n",
    "        #仅包含一个元素直接return\n",
    "        return a[0][0]\n",
    "    else:\n",
    "        result = 0\n",
    "        #以第一行元素拆成n个n-1维\n",
    "        for i in range(len(a)):\n",
    "            b = copy.deepcopy(a)\n",
    "            #删除该元素所在行列，形成n-1维行列式\n",
    "            b.pop(0)\n",
    "            for j in range(len(b)):\n",
    "                b[j].pop(i)\n",
    "            #结果累加\n",
    "            result += (1 if(i%2 == 0) else -1) * a[0][i] * hls(b)\n",
    "        return result\n",
    "hls([[9,9,5],[4,6,8],[1,5,6]])"
   ]
  }
 ],
 "metadata": {
  "kernelspec": {
   "display_name": "Python 3",
   "language": "python",
   "name": "python3"
  },
  "language_info": {
   "codemirror_mode": {
    "name": "ipython",
    "version": 3
   },
   "file_extension": ".py",
   "mimetype": "text/x-python",
   "name": "python",
   "nbconvert_exporter": "python",
   "pygments_lexer": "ipython3",
   "version": "3.7.5"
  },
  "toc": {
   "base_numbering": 1,
   "nav_menu": {},
   "number_sections": true,
   "sideBar": true,
   "skip_h1_title": false,
   "title_cell": "Table of Contents",
   "title_sidebar": "Contents",
   "toc_cell": false,
   "toc_position": {},
   "toc_section_display": true,
   "toc_window_display": false
  }
 },
 "nbformat": 4,
 "nbformat_minor": 2
}
